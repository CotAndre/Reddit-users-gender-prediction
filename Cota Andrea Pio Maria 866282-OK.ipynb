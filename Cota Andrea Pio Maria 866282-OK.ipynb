{
 "cells": [
  {
   "cell_type": "markdown",
   "id": "7159548f",
   "metadata": {},
   "source": [
    "# Gender classification of reddit authors\n",
    "Andrea Pio Maria Cota, matricola: 866282"
   ]
  },
  {
   "cell_type": "code",
   "execution_count": 1,
   "id": "fbb6735f",
   "metadata": {},
   "outputs": [
    {
     "name": "stdout",
     "output_type": "stream",
     "text": [
      "Populating the interactive namespace from numpy and matplotlib\n"
     ]
    }
   ],
   "source": [
    "%pylab inline\n",
    "# Pandas per analisi e manipolazione dati\n",
    "import pandas as pd"
   ]
  },
  {
   "cell_type": "markdown",
   "id": "e0e13cd8",
   "metadata": {},
   "source": [
    "# Data observation"
   ]
  },
  {
   "cell_type": "markdown",
   "id": "049ccbca",
   "metadata": {},
   "source": [
    "train_data è di dimensione (296'042 X 4), in cui ogni riga corrisponde a un post di un utente in un subreddit e le 4 colonne sono: author, subreddit, UTC e body"
   ]
  },
  {
   "cell_type": "code",
   "execution_count": 2,
   "id": "cdc3bb5a",
   "metadata": {},
   "outputs": [
    {
     "data": {
      "text/html": [
       "<div>\n",
       "<style scoped>\n",
       "    .dataframe tbody tr th:only-of-type {\n",
       "        vertical-align: middle;\n",
       "    }\n",
       "\n",
       "    .dataframe tbody tr th {\n",
       "        vertical-align: top;\n",
       "    }\n",
       "\n",
       "    .dataframe thead th {\n",
       "        text-align: right;\n",
       "    }\n",
       "</style>\n",
       "<table border=\"1\" class=\"dataframe\">\n",
       "  <thead>\n",
       "    <tr style=\"text-align: right;\">\n",
       "      <th></th>\n",
       "      <th>author</th>\n",
       "      <th>subreddit</th>\n",
       "      <th>created_utc</th>\n",
       "      <th>body</th>\n",
       "    </tr>\n",
       "  </thead>\n",
       "  <tbody>\n",
       "    <tr>\n",
       "      <th>0</th>\n",
       "      <td>Shamus_Aran</td>\n",
       "      <td>mylittlepony</td>\n",
       "      <td>1.388534e+09</td>\n",
       "      <td>I don't think we'd get nearly as much fanficti...</td>\n",
       "    </tr>\n",
       "    <tr>\n",
       "      <th>1</th>\n",
       "      <td>Riddance</td>\n",
       "      <td>sex</td>\n",
       "      <td>1.388534e+09</td>\n",
       "      <td>Thanks. I made it up, that's how I got over my...</td>\n",
       "    </tr>\n",
       "    <tr>\n",
       "      <th>2</th>\n",
       "      <td>Secret_Wizard</td>\n",
       "      <td>DragonsDogma</td>\n",
       "      <td>1.388534e+09</td>\n",
       "      <td>Are you sure you aren't confusing Cyclops (the...</td>\n",
       "    </tr>\n",
       "    <tr>\n",
       "      <th>3</th>\n",
       "      <td>Penultimatum</td>\n",
       "      <td>malefashionadvice</td>\n",
       "      <td>1.388534e+09</td>\n",
       "      <td>dont do this to me bro</td>\n",
       "    </tr>\n",
       "    <tr>\n",
       "      <th>4</th>\n",
       "      <td>7-SE7EN-7</td>\n",
       "      <td>todayilearned</td>\n",
       "      <td>1.388534e+09</td>\n",
       "      <td>That's what we do when we can't find a mate</td>\n",
       "    </tr>\n",
       "  </tbody>\n",
       "</table>\n",
       "</div>"
      ],
      "text/plain": [
       "          author          subreddit   created_utc  \\\n",
       "0    Shamus_Aran       mylittlepony  1.388534e+09   \n",
       "1       Riddance                sex  1.388534e+09   \n",
       "2  Secret_Wizard       DragonsDogma  1.388534e+09   \n",
       "3   Penultimatum  malefashionadvice  1.388534e+09   \n",
       "4      7-SE7EN-7      todayilearned  1.388534e+09   \n",
       "\n",
       "                                                body  \n",
       "0  I don't think we'd get nearly as much fanficti...  \n",
       "1  Thanks. I made it up, that's how I got over my...  \n",
       "2  Are you sure you aren't confusing Cyclops (the...  \n",
       "3                             dont do this to me bro  \n",
       "4        That's what we do when we can't find a mate  "
      ]
     },
     "execution_count": 2,
     "metadata": {},
     "output_type": "execute_result"
    }
   ],
   "source": [
    "train_data = pd.read_csv(\"train_data.csv\", encoding=\"utf8\")\n",
    "train_data.head()"
   ]
  },
  {
   "cell_type": "markdown",
   "id": "c3b31789",
   "metadata": {},
   "source": [
    "I commenti nel dataset a disposizione sono 296042 ma gli autori sono 5000, il chè sta a significare che ogni autore può aver scritto in più di un subreddit"
   ]
  },
  {
   "cell_type": "code",
   "execution_count": 3,
   "id": "b7619c26",
   "metadata": {},
   "outputs": [
    {
     "data": {
      "text/plain": [
       "(5000,)"
      ]
     },
     "execution_count": 3,
     "metadata": {},
     "output_type": "execute_result"
    }
   ],
   "source": [
    "train_data.author.unique().shape"
   ]
  },
  {
   "cell_type": "markdown",
   "id": "349d98e7",
   "metadata": {},
   "source": [
    "Target è invece di dimensione 5000 x 2, con le due colonne che sono author e gender, dove gli utenti maschi sono rappresentati con 0 mentre gli utenti femmine con 1"
   ]
  },
  {
   "cell_type": "code",
   "execution_count": 4,
   "id": "35822f2f",
   "metadata": {},
   "outputs": [
    {
     "data": {
      "text/html": [
       "<div>\n",
       "<style scoped>\n",
       "    .dataframe tbody tr th:only-of-type {\n",
       "        vertical-align: middle;\n",
       "    }\n",
       "\n",
       "    .dataframe tbody tr th {\n",
       "        vertical-align: top;\n",
       "    }\n",
       "\n",
       "    .dataframe thead th {\n",
       "        text-align: right;\n",
       "    }\n",
       "</style>\n",
       "<table border=\"1\" class=\"dataframe\">\n",
       "  <thead>\n",
       "    <tr style=\"text-align: right;\">\n",
       "      <th></th>\n",
       "      <th>author</th>\n",
       "      <th>gender</th>\n",
       "    </tr>\n",
       "  </thead>\n",
       "  <tbody>\n",
       "    <tr>\n",
       "      <th>0</th>\n",
       "      <td>RedThunder90</td>\n",
       "      <td>0</td>\n",
       "    </tr>\n",
       "    <tr>\n",
       "      <th>1</th>\n",
       "      <td>Lirkmor</td>\n",
       "      <td>1</td>\n",
       "    </tr>\n",
       "    <tr>\n",
       "      <th>2</th>\n",
       "      <td>In0chi</td>\n",
       "      <td>0</td>\n",
       "    </tr>\n",
       "    <tr>\n",
       "      <th>3</th>\n",
       "      <td>ProjectGrudge</td>\n",
       "      <td>0</td>\n",
       "    </tr>\n",
       "    <tr>\n",
       "      <th>4</th>\n",
       "      <td>TehTurtleHermit</td>\n",
       "      <td>0</td>\n",
       "    </tr>\n",
       "  </tbody>\n",
       "</table>\n",
       "</div>"
      ],
      "text/plain": [
       "            author  gender\n",
       "0     RedThunder90       0\n",
       "1          Lirkmor       1\n",
       "2           In0chi       0\n",
       "3    ProjectGrudge       0\n",
       "4  TehTurtleHermit       0"
      ]
     },
     "execution_count": 4,
     "metadata": {},
     "output_type": "execute_result"
    }
   ],
   "source": [
    "target = pd.read_csv(\"train_target.csv\")\n",
    "target.head()"
   ]
  },
  {
   "cell_type": "markdown",
   "id": "2eb988ee",
   "metadata": {},
   "source": [
    "# Feature extraction"
   ]
  },
  {
   "cell_type": "markdown",
   "id": "73e094cc",
   "metadata": {},
   "source": [
    "Definisco subreddits_map come una serie di Pandas che ha come indici i subreddit (unici) e come valori dei numeri compresi tra 0 e il numero di subreddit unici"
   ]
  },
  {
   "cell_type": "code",
   "execution_count": 6,
   "id": "104d292b",
   "metadata": {},
   "outputs": [
    {
     "data": {
      "text/plain": [
       "mylittlepony            0\n",
       "sex                     1\n",
       "DragonsDogma            2\n",
       "malefashionadvice       3\n",
       "todayilearned           4\n",
       "                     ... \n",
       "palegirls            3463\n",
       "onions               3464\n",
       "mumfordandsons       3465\n",
       "infertility          3466\n",
       "HangoutFest          3467\n",
       "Length: 3468, dtype: int64"
      ]
     },
     "execution_count": 6,
     "metadata": {},
     "output_type": "execute_result"
    }
   ],
   "source": [
    "subreddits = train_data.subreddit.unique()\n",
    "subreddits_map = pd.Series(index=subreddits, data=arange(subreddits.shape[0]))"
   ]
  },
  {
   "cell_type": "code",
   "execution_count": 41,
   "id": "f271b32f",
   "metadata": {},
   "outputs": [],
   "source": [
    "# Pacchetto matrice sparsa per dati numerici\n",
    "from scipy import sparse"
   ]
  },
  {
   "cell_type": "markdown",
   "id": "83645bf1",
   "metadata": {},
   "source": [
    "Definisco una funzione che crea una matrice sparsa. Dato un autore questa matrice avrà dimensione 1 X 3468, in cui ogni colonna è un subreddit e per ogni subreddit il valore della matrice è 0 se l'autore non ha scritto in quel subreddit e 1 se l'ha fatto."
   ]
  },
  {
   "cell_type": "code",
   "execution_count": 42,
   "id": "108ee52f",
   "metadata": {},
   "outputs": [],
   "source": [
    "def extract_features(group):\n",
    "    group_subreddits = group['subreddit']\n",
    "    group_subreddits = group_subreddits[group_subreddits.isin(subreddits_map.index)].values\n",
    "    idxs = subreddits_map.loc[group_subreddits].values\n",
    "    v = sparse.dok_matrix((1, subreddits.shape[0]))\n",
    "    for idx in idxs:\n",
    "        if not np.isnan(idx):\n",
    "            v[0, idx] = 1\n",
    "    return v.tocsr()"
   ]
  },
  {
   "cell_type": "markdown",
   "id": "a1cb51d5",
   "metadata": {},
   "source": [
    "Ad esempio per l'autore \"RedThunder90\" si osserva come ha scritto in un solo subreddit"
   ]
  },
  {
   "cell_type": "code",
   "execution_count": 43,
   "id": "4819782b",
   "metadata": {},
   "outputs": [
    {
     "data": {
      "text/plain": [
       "<1x3468 sparse matrix of type '<class 'numpy.float64'>'\n",
       "\twith 1 stored elements in Compressed Sparse Row format>"
      ]
     },
     "execution_count": 43,
     "metadata": {},
     "output_type": "execute_result"
    }
   ],
   "source": [
    "extract_features(train_data[train_data.author=='RedThunder90'])"
   ]
  },
  {
   "cell_type": "markdown",
   "id": "0d24f234",
   "metadata": {},
   "source": [
    "Definisco features_dict come un dizionario contente per ogni autore la matrice sparsa definita poco prima:"
   ]
  },
  {
   "cell_type": "code",
   "execution_count": 44,
   "id": "01cc6eb2",
   "metadata": {},
   "outputs": [],
   "source": [
    "features_dict = {}\n",
    "\n",
    "for author, group in train_data.groupby('author'):\n",
    "    features_dict[author] = extract_features(group)"
   ]
  },
  {
   "cell_type": "markdown",
   "id": "b43a906d",
   "metadata": {},
   "source": [
    "A questo punto creo la matrice X con un vertical stack delle componenti del dizionario features_dict:"
   ]
  },
  {
   "cell_type": "code",
   "execution_count": 45,
   "id": "68ba7af8",
   "metadata": {},
   "outputs": [
    {
     "data": {
      "text/plain": [
       "<5000x3468 sparse matrix of type '<class 'numpy.float64'>'\n",
       "\twith 49152 stored elements in Compressed Sparse Row format>"
      ]
     },
     "execution_count": 45,
     "metadata": {},
     "output_type": "execute_result"
    }
   ],
   "source": [
    "X = sparse.vstack([features_dict[author] for author in target.author])\n",
    "X"
   ]
  },
  {
   "cell_type": "markdown",
   "id": "ae655a9a",
   "metadata": {},
   "source": [
    "Nota: avendo riempito questa matrice con un for relativo a target.author, essa risulta avere gli autori nello stesso ordine con cui appaiono in target, risolvendo così il problema degli ordini diversi, in quanto originariamente l'ordine degli autori nei due dataset era diverso"
   ]
  },
  {
   "cell_type": "markdown",
   "id": "d9c35db8",
   "metadata": {},
   "source": [
    "Assegno alla variabile y il gender degli autori"
   ]
  },
  {
   "cell_type": "code",
   "execution_count": 46,
   "id": "37cde0ee",
   "metadata": {},
   "outputs": [],
   "source": [
    "y = target.gender"
   ]
  },
  {
   "cell_type": "markdown",
   "id": "2347f8c3",
   "metadata": {},
   "source": [
    "Definisco la funzione extract_text che, dato un autore, mette insieme in un'unica stringa tutti  i commenti scritti da quell'autore:"
   ]
  },
  {
   "cell_type": "code",
   "execution_count": 47,
   "id": "816a0e86",
   "metadata": {},
   "outputs": [
    {
     "data": {
      "text/plain": [
       "'I still prefer to buy foods either grown locally or where animals are treated better, but this definitely has me looking at organic food differently.'"
      ]
     },
     "execution_count": 47,
     "metadata": {},
     "output_type": "execute_result"
    }
   ],
   "source": [
    "def extract_text(group):\n",
    "    group_text = group['body'].values\n",
    "    return \" \".join(group_text)\n",
    "\n",
    "extract_text(train_data[train_data.author=='RedThunder90'])"
   ]
  },
  {
   "cell_type": "markdown",
   "id": "01eefcec",
   "metadata": {},
   "source": [
    "Creo il dizionario text_dict che raccoglie per ogni autore il risultato di extract_text per quell'autore:"
   ]
  },
  {
   "cell_type": "code",
   "execution_count": 48,
   "id": "e67449bd",
   "metadata": {},
   "outputs": [],
   "source": [
    "text_dict = {}\n",
    "\n",
    "for author, group in train_data.groupby('author'):\n",
    "    text_dict[author] = extract_text(group)"
   ]
  },
  {
   "cell_type": "markdown",
   "id": "e16e276d",
   "metadata": {},
   "source": [
    "Creo author_text, ordinato con l'ordine degli autori in target:"
   ]
  },
  {
   "cell_type": "code",
   "execution_count": 49,
   "id": "a823a982",
   "metadata": {},
   "outputs": [],
   "source": [
    "author_text = [text_dict[author] for author in target.author]"
   ]
  },
  {
   "cell_type": "markdown",
   "id": "3bebd541",
   "metadata": {},
   "source": [
    "Per utilizzare, oltre ai subreddit, anche quello che l'utente scrive è necessario trasformare il testo in features vectors. La tecnica che ho usato è quella del Term Frequency-Inverse Document Frequency:"
   ]
  },
  {
   "cell_type": "code",
   "execution_count": 50,
   "id": "d15532d2",
   "metadata": {},
   "outputs": [
    {
     "data": {
      "text/plain": [
       "<5000x10000 sparse matrix of type '<class 'numpy.float64'>'\n",
       "\twith 1713288 stored elements in Compressed Sparse Row format>"
      ]
     },
     "execution_count": 50,
     "metadata": {},
     "output_type": "execute_result"
    }
   ],
   "source": [
    "from sklearn.feature_extraction.text import CountVectorizer \n",
    "from sklearn.feature_extraction.text import TfidfTransformer \n",
    "from sklearn.feature_extraction.text import ENGLISH_STOP_WORDS #per eliminare parole comuni\n",
    "\n",
    "pattern ='(?u)\\\\b[A-Za-z]{3,}' #cerchiamo parole con un minimo di 3 caratteri tra A-Za-z\n",
    "\n",
    "stop_words = set(list(ENGLISH_STOP_WORDS)) #per non conteggiare tutte le parole (quelle molto comuni)\n",
    "\n",
    "# cv implementa sia la parte di separazione delle parole che di conteggio\n",
    "cv = CountVectorizer(token_pattern=pattern, stop_words=stop_words, max_features=10000)\n",
    "# per ottimizzare metto un limite di parole in cv, si tratta di una scelta arbitraria\n",
    "\n",
    "C = cv.fit_transform(author_text) # è la matrice del conteggio delle parole\n",
    "\n",
    "tfidf = TfidfTransformer() # applichiamo normalizzazione\n",
    "\n",
    "# Otteniamo così la matrice delle tf-idf features\n",
    "X_tfidf = tfidf.fit_transform(C)\n",
    "X_tfidf"
   ]
  },
  {
   "cell_type": "markdown",
   "id": "9e1e52cd",
   "metadata": {},
   "source": [
    "A questo punto ottengo un'unica matrice X_train che uso per fare learning:"
   ]
  },
  {
   "cell_type": "code",
   "execution_count": 51,
   "id": "6e9b504d",
   "metadata": {},
   "outputs": [],
   "source": [
    "from scipy.sparse import hstack\n",
    "X_train = hstack((X, X_tfidf))"
   ]
  },
  {
   "cell_type": "markdown",
   "id": "b18da1ac",
   "metadata": {},
   "source": [
    "Al termine di questa parte di features extraction ho la matrice X_train di dimensione (5000 X 13468). I componenti di questa matrice sono:\n",
    "- X che contiene l'informazione sui subreddits in cui ciascun autore ha scritto \n",
    "- X_tfidf che contiene l'informazione sulle parole più usate da ciasun autore"
   ]
  },
  {
   "cell_type": "markdown",
   "id": "9c44c36b",
   "metadata": {},
   "source": [
    "# Model selection"
   ]
  },
  {
   "cell_type": "markdown",
   "id": "e7d69659",
   "metadata": {},
   "source": [
    "Come primo approccio al problema ho deciso di utilizzare soltanto l'informazione sui subreddit per osservare un primo score e vedere come poi sarebbe cambiato usando anche l'informazione relativa al testo.\n",
    "Il modello che ho deciso di utilizzare inizialmente è una Logistic regression:"
   ]
  },
  {
   "cell_type": "markdown",
   "id": "7f9fbb99",
   "metadata": {},
   "source": [
    "LOGISTIC REGRESSION"
   ]
  },
  {
   "cell_type": "code",
   "execution_count": 12,
   "id": "1791206f",
   "metadata": {},
   "outputs": [
    {
     "data": {
      "text/plain": [
       "LogisticRegression()"
      ]
     },
     "execution_count": 12,
     "metadata": {},
     "output_type": "execute_result"
    }
   ],
   "source": [
    "from sklearn.linear_model import LogisticRegression\n",
    "lr = LogisticRegression ()\n",
    "lr.fit(X,y)"
   ]
  },
  {
   "cell_type": "code",
   "execution_count": 16,
   "id": "f3ce7680",
   "metadata": {},
   "outputs": [
    {
     "data": {
      "text/html": [
       "<div>\n",
       "<style scoped>\n",
       "    .dataframe tbody tr th:only-of-type {\n",
       "        vertical-align: middle;\n",
       "    }\n",
       "\n",
       "    .dataframe tbody tr th {\n",
       "        vertical-align: top;\n",
       "    }\n",
       "\n",
       "    .dataframe thead th {\n",
       "        text-align: right;\n",
       "    }\n",
       "</style>\n",
       "<table border=\"1\" class=\"dataframe\">\n",
       "  <thead>\n",
       "    <tr style=\"text-align: right;\">\n",
       "      <th></th>\n",
       "      <th>author</th>\n",
       "      <th>gender</th>\n",
       "    </tr>\n",
       "  </thead>\n",
       "  <tbody>\n",
       "    <tr>\n",
       "      <th>0</th>\n",
       "      <td>ejchristian86</td>\n",
       "      <td>0.999976</td>\n",
       "    </tr>\n",
       "    <tr>\n",
       "      <th>1</th>\n",
       "      <td>ZenDragon</td>\n",
       "      <td>0.002713</td>\n",
       "    </tr>\n",
       "    <tr>\n",
       "      <th>2</th>\n",
       "      <td>savoytruffle</td>\n",
       "      <td>0.018238</td>\n",
       "    </tr>\n",
       "    <tr>\n",
       "      <th>3</th>\n",
       "      <td>hentercenter</td>\n",
       "      <td>0.059859</td>\n",
       "    </tr>\n",
       "    <tr>\n",
       "      <th>4</th>\n",
       "      <td>rick-o-suave</td>\n",
       "      <td>0.304228</td>\n",
       "    </tr>\n",
       "  </tbody>\n",
       "</table>\n",
       "</div>"
      ],
      "text/plain": [
       "          author    gender\n",
       "0  ejchristian86  0.999976\n",
       "1      ZenDragon  0.002713\n",
       "2   savoytruffle  0.018238\n",
       "3   hentercenter  0.059859\n",
       "4   rick-o-suave  0.304228"
      ]
     },
     "execution_count": 16,
     "metadata": {},
     "output_type": "execute_result"
    }
   ],
   "source": [
    "y_pred_lr = lr.predict_proba(X_test)[:,1]\n",
    "solution = pd.DataFrame({\"author\":test_data.author.unique(), \"gender\":y_pred_lr})\n",
    "solution.head()"
   ]
  },
  {
   "cell_type": "markdown",
   "id": "86570522",
   "metadata": {},
   "source": [
    "Score ottenuto: 0.89911"
   ]
  },
  {
   "cell_type": "markdown",
   "id": "d77f2555",
   "metadata": {},
   "source": [
    "Qui, invece, inizia la vera parte di model selection che fa utilizzo anche dell'informazione relativa ai commenti degli autori.\n",
    "La soluzione che ho deciso di presentare vede come modello il \"MULTINOMIAL NAIVE-BAYES\":"
   ]
  },
  {
   "cell_type": "code",
   "execution_count": 52,
   "id": "12bf2096",
   "metadata": {},
   "outputs": [],
   "source": [
    "from sklearn import model_selection\n",
    "from sklearn.naive_bayes import MultinomialNB\n",
    "\n",
    "model = MultinomialNB()\n",
    "\n",
    "#Creo una lista di valori per il parametro alfa di regolarizzazione che va da 10^{-4} a 10^{10} spaziati in scala log\n",
    "alphas = np.logspace(-4, 10, 1000)\n",
    "scores = []\n",
    "\n",
    "for alpha in alphas:\n",
    "    model.alpha = alpha\n",
    "    scores_alpha = model_selection.cross_val_score(model, X_train, y, cv=10) # processo viene eseguito 10 volte, e ridà 10 valori diversi per ognugna delle parti valutate\n",
    "    scores.append(np.mean(scores_alpha))"
   ]
  },
  {
   "cell_type": "code",
   "execution_count": 53,
   "id": "2664dceb",
   "metadata": {},
   "outputs": [
    {
     "name": "stdout",
     "output_type": "stream",
     "text": [
      "Best alpha: 0.3746050032748993\n",
      "Best score: 0.8705999999999999\n"
     ]
    },
    {
     "data": {
      "text/plain": [
       "Text(0,0.5,'Score (accuracy)')"
      ]
     },
     "execution_count": 53,
     "metadata": {},
     "output_type": "execute_result"
    },
    {
     "data": {
      "image/png": "[encoded data removed]",
      "text/plain": [
       "<Figure size 432x288 with 1 Axes>"
      ]
     },
     "metadata": {
      "needs_background": "light"
     },
     "output_type": "display_data"
    }
   ],
   "source": [
    "print ('Best alpha:', alphas[np.argmax(scores)])\n",
    "print ('Best score:', scores[np.argmax(scores)])\n",
    "axhline(np.max(scores), linestyle='--', color='.5')\n",
    "\n",
    "plt.semilogx(alphas, scores)\n",
    "plt.xlabel('alpha')\n",
    "plt.ylabel('Score (accuracy)')"
   ]
  },
  {
   "cell_type": "markdown",
   "id": "c2964567",
   "metadata": {},
   "source": [
    "si noti come man mano, a sinistra del massimo, l'algoritmo sta imparando mentre a destra del massimo ho underfitting"
   ]
  },
  {
   "cell_type": "code",
   "execution_count": 54,
   "id": "fcf04698",
   "metadata": {},
   "outputs": [
    {
     "data": {
      "text/plain": [
       "MultinomialNB(alpha=0.3746050032748993)"
      ]
     },
     "execution_count": 54,
     "metadata": {},
     "output_type": "execute_result"
    }
   ],
   "source": [
    "model = MultinomialNB(alpha = 0.3746050032748993)\n",
    "model.fit(X_train,y)"
   ]
  },
  {
   "cell_type": "markdown",
   "id": "fb9cc39a",
   "metadata": {},
   "source": [
    "# Preparing the solution"
   ]
  },
  {
   "cell_type": "markdown",
   "id": "eb7b03d8",
   "metadata": {},
   "source": [
    "Carico i dati di test"
   ]
  },
  {
   "cell_type": "code",
   "execution_count": 55,
   "id": "52b41b8b",
   "metadata": {},
   "outputs": [],
   "source": [
    "test_data = pd.read_csv(\"test_data.csv\", encoding=\"utf8\")"
   ]
  },
  {
   "cell_type": "markdown",
   "id": "3a82a2a4",
   "metadata": {},
   "source": [
    "Rifaccio le stesse operazioni fatte per la parte di training"
   ]
  },
  {
   "cell_type": "code",
   "execution_count": 56,
   "id": "155b504d",
   "metadata": {},
   "outputs": [],
   "source": [
    "features_dict = {}\n",
    "\n",
    "for author, group in test_data.groupby('author'):\n",
    "    features_dict[author] = extract_features(group)"
   ]
  },
  {
   "cell_type": "markdown",
   "id": "075525fc",
   "metadata": {},
   "source": [
    "A questo punto creo la matrice X_test con un vertical stack delle componenti del dizionario features_dict:"
   ]
  },
  {
   "cell_type": "code",
   "execution_count": 57,
   "id": "4488dd29",
   "metadata": {},
   "outputs": [
    {
     "data": {
      "text/plain": [
       "<15000x3468 sparse matrix of type '<class 'numpy.float64'>'\n",
       "\twith 144898 stored elements in Compressed Sparse Row format>"
      ]
     },
     "execution_count": 57,
     "metadata": {},
     "output_type": "execute_result"
    }
   ],
   "source": [
    "X_test = sparse.vstack([features_dict[author] for author in test_data.author.unique()])\n",
    "X_test"
   ]
  },
  {
   "cell_type": "code",
   "execution_count": 58,
   "id": "0150ee15",
   "metadata": {},
   "outputs": [],
   "source": [
    "def extract_text_test(group):\n",
    "    group_text = group['body'].values\n",
    "    return \"\".join(str(group_text))"
   ]
  },
  {
   "cell_type": "markdown",
   "id": "55a99924",
   "metadata": {},
   "source": [
    "Creo il dizionario text_dict_test che raccoglie per ogni autore il risultato di extract_text per quell'autore:"
   ]
  },
  {
   "cell_type": "code",
   "execution_count": 59,
   "id": "f73515df",
   "metadata": {},
   "outputs": [],
   "source": [
    "text_dict_test = {}\n",
    "\n",
    "for author, group in test_data.groupby('author'):\n",
    "    text_dict_test[author] = extract_text_test(group)"
   ]
  },
  {
   "cell_type": "markdown",
   "id": "8f72aa57",
   "metadata": {},
   "source": [
    "Creo author_text_test, ordinato con l'ordine degli autori in target:"
   ]
  },
  {
   "cell_type": "code",
   "execution_count": 60,
   "id": "7a6babaf",
   "metadata": {},
   "outputs": [],
   "source": [
    "author_text_test = [text_dict_test[author] for author in test_data.author.unique()]"
   ]
  },
  {
   "cell_type": "markdown",
   "id": "89499974",
   "metadata": {},
   "source": [
    "Applico tf-idf:"
   ]
  },
  {
   "cell_type": "code",
   "execution_count": 61,
   "id": "a100485d",
   "metadata": {},
   "outputs": [],
   "source": [
    "C_test1 = cv.transform(author_text_test)\n",
    "X_test1 = tfidf.transform(C_test1)"
   ]
  },
  {
   "cell_type": "markdown",
   "id": "e0e67bc0",
   "metadata": {},
   "source": [
    "Creo la matrice contenente sia l'info sul subreddit che sul body"
   ]
  },
  {
   "cell_type": "code",
   "execution_count": 62,
   "id": "baa16402",
   "metadata": {},
   "outputs": [
    {
     "data": {
      "text/plain": [
       "<15000x13468 sparse matrix of type '<class 'numpy.float64'>'\n",
       "\twith 5038229 stored elements in COOrdinate format>"
      ]
     },
     "execution_count": 62,
     "metadata": {},
     "output_type": "execute_result"
    }
   ],
   "source": [
    "X_final = hstack((X_test, X_test1))\n",
    "X_final"
   ]
  },
  {
   "cell_type": "markdown",
   "id": "b43d5e84",
   "metadata": {},
   "source": [
    "Ottenendo la predizione del modello:"
   ]
  },
  {
   "cell_type": "code",
   "execution_count": 63,
   "id": "640f4bf3",
   "metadata": {},
   "outputs": [],
   "source": [
    "y_pred = model.predict_proba(X_final)[:,1]"
   ]
  },
  {
   "cell_type": "code",
   "execution_count": 64,
   "id": "14b62b26",
   "metadata": {},
   "outputs": [
    {
     "data": {
      "text/html": [
       "<div>\n",
       "<style scoped>\n",
       "    .dataframe tbody tr th:only-of-type {\n",
       "        vertical-align: middle;\n",
       "    }\n",
       "\n",
       "    .dataframe tbody tr th {\n",
       "        vertical-align: top;\n",
       "    }\n",
       "\n",
       "    .dataframe thead th {\n",
       "        text-align: right;\n",
       "    }\n",
       "</style>\n",
       "<table border=\"1\" class=\"dataframe\">\n",
       "  <thead>\n",
       "    <tr style=\"text-align: right;\">\n",
       "      <th></th>\n",
       "      <th>author</th>\n",
       "      <th>gender</th>\n",
       "    </tr>\n",
       "  </thead>\n",
       "  <tbody>\n",
       "    <tr>\n",
       "      <th>0</th>\n",
       "      <td>ejchristian86</td>\n",
       "      <td>1.000000e+00</td>\n",
       "    </tr>\n",
       "    <tr>\n",
       "      <th>1</th>\n",
       "      <td>ZenDragon</td>\n",
       "      <td>6.659747e-12</td>\n",
       "    </tr>\n",
       "    <tr>\n",
       "      <th>2</th>\n",
       "      <td>savoytruffle</td>\n",
       "      <td>3.329350e-05</td>\n",
       "    </tr>\n",
       "    <tr>\n",
       "      <th>3</th>\n",
       "      <td>hentercenter</td>\n",
       "      <td>1.350938e-04</td>\n",
       "    </tr>\n",
       "    <tr>\n",
       "      <th>4</th>\n",
       "      <td>rick-o-suave</td>\n",
       "      <td>4.851008e-02</td>\n",
       "    </tr>\n",
       "  </tbody>\n",
       "</table>\n",
       "</div>"
      ],
      "text/plain": [
       "          author        gender\n",
       "0  ejchristian86  1.000000e+00\n",
       "1      ZenDragon  6.659747e-12\n",
       "2   savoytruffle  3.329350e-05\n",
       "3   hentercenter  1.350938e-04\n",
       "4   rick-o-suave  4.851008e-02"
      ]
     },
     "execution_count": 64,
     "metadata": {},
     "output_type": "execute_result"
    }
   ],
   "source": [
    "solution = pd.DataFrame({\"author\":test_data.author.unique(), \"gender\":y_pred})\n",
    "solution.head()"
   ]
  },
  {
   "cell_type": "markdown",
   "id": "11541b05",
   "metadata": {},
   "source": [
    "Score ottenuto: 0.92201"
   ]
  },
  {
   "cell_type": "code",
   "execution_count": 65,
   "id": "2d796a03",
   "metadata": {},
   "outputs": [],
   "source": [
    "solution.to_csv(\"BestSolution2.csv\", index=False)"
   ]
  }
 ],
 "metadata": {
  "kernelspec": {
   "display_name": "Python 3",
   "language": "python",
   "name": "python3"
  },
  "language_info": {
   "codemirror_mode": {
    "name": "ipython",
    "version": 3
   },
   "file_extension": ".py",
   "mimetype": "text/x-python",
   "name": "python",
   "nbconvert_exporter": "python",
   "pygments_lexer": "ipython3",
   "version": "3.8.8"
  }
 },
 "nbformat": 4,
 "nbformat_minor": 5
}
